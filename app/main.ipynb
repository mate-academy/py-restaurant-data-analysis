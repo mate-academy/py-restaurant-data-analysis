{
 "cells": [
  {
   "cell_type": "code",
   "execution_count": 115,
   "metadata": {
    "collapsed": true,
    "pycharm": {
     "name": "#%%\n"
    }
   },
   "outputs": [],
   "source": [
    "import csv\n",
    "import sqlite3\n",
    "import matplotlib.pyplot as plt\n",
    "\n",
    "import pandas as pd"
   ]
  },
  {
   "cell_type": "markdown",
   "source": [
    "# Task 0\n",
    "Data extraction: get the data from 3 tables & combine it into single `.csv` file.\n",
    "After that read this file using pandas to create Dataframe.\n",
    "So it will be all joined data in 1 dataframe. Quick check - should be 74818 rows in it."
   ],
   "metadata": {
    "collapsed": false,
    "pycharm": {
     "name": "#%% md\n"
    }
   }
  },
  {
   "cell_type": "code",
   "execution_count": null,
   "outputs": [],
   "source": [
    "# Using cursor.execute()\n",
    "connection = sqlite3.connect(\n",
    "    \"C:/Users/user/PythonProject/advanced_topic/py-restaurant-data-analysis/db.sqlite3\"\n",
    ")\n",
    "cursor = connection.cursor()\n",
    "\n",
    "cursor.execute(\n",
    "    \"SELECT restaurant_product.name, restaurant_product.price, restaurant_orderitem.quantity, restaurant_order.datetime FROM restaurant_product JOIN restaurant_orderitem ON restaurant_product.id = restaurant_orderitem.product_id JOIN restaurant_order ON restaurant_orderitem.order_id = restaurant_order.id\"\n",
    ")\n",
    "all_products = cursor.fetchall()\n",
    "\n",
    "with open(\"out.csv\", \"w\", encoding=\"utf-8\", newline=\"\") as file:\n",
    "    writer = csv.writer(file)\n",
    "    writer.writerow([\"name\", \"price\", \"quantity\", \"datetime\"])\n",
    "    writer.writerows([product for product in all_products])\n",
    "\n",
    "df = pd.read_csv(\"out.csv\")\n",
    "\n",
    "# Using pd.read_sql_query()\n",
    "new_df = pd.read_sql_query(\n",
    "    \"SELECT restaurant_product.name, restaurant_product.price, restaurant_order.datetime, restaurant_orderitem.quantity FROM restaurant_product JOIN restaurant_orderitem ON restaurant_product.id = restaurant_orderitem.product_id JOIN restaurant_order ON restaurant_orderitem.order_id = restaurant_order.id\",\n",
    "    connection,\n",
    ")\n",
    "new_df.to_csv(\"hi.csv\", index=False)\n",
    "\n",
    "cursor.close()\n",
    "connection.close()\n",
    "\n",
    "df"
   ],
   "metadata": {
    "collapsed": false,
    "pycharm": {
     "name": "#%%\n"
    }
   }
  },
  {
   "cell_type": "markdown",
   "source": [
    "# Task 1\n",
    "Get Top 10 most popular products in restaurant sold by Quantity.\n",
    "Count how many times each product was sold and create a pie chart with percentage of popularity (by quantity) for top 10 of them.\n",
    "\n",
    "Example:\n",
    "\n",
    "![pie chart](../demo/pie.png)"
   ],
   "metadata": {
    "collapsed": false,
    "pycharm": {
     "name": "#%% md\n"
    }
   }
  },
  {
   "cell_type": "code",
   "execution_count": null,
   "outputs": [],
   "source": [
    "most_popular = (\n",
    "    df.groupby(by=\"name\", as_index=False)\n",
    "    .sum(\"quantity\")\n",
    "    .sort_values(by=\"quantity\")\n",
    "    .tail(10)\n",
    ")\n",
    "\n",
    "plt.pie(\n",
    "    most_popular[\"quantity\"],\n",
    "    labels=most_popular[\"name\"],\n",
    "    autopct=lambda p: \"{:.2f}%({:.0f})\".format(\n",
    "        p, (p / 100) * sum(most_popular[\"quantity\"])\n",
    "    )\n",
    ")\n",
    "plt.title(\"Top 10 most popular products in restaurant by quantity\")\n",
    "plt.show()"
   ],
   "metadata": {
    "collapsed": false,
    "pycharm": {
     "name": "#%%\n"
    }
   }
  },
  {
   "cell_type": "markdown",
   "source": [
    "# Task 2\n",
    "Calculate `Item Price` (Product Price * Quantity) for each Order Item in dataframe.\n",
    "And Make the same Top 10 pie chart, but this time by `Item Price`. So this chart should describe not the most popular products by quantity, but which products (top 10) make the most money for restaurant. It should be also with percentage."
   ],
   "metadata": {
    "collapsed": false,
    "pycharm": {
     "name": "#%% md\n"
    }
   }
  },
  {
   "cell_type": "code",
   "execution_count": null,
   "outputs": [],
   "source": [
    "df[\"item_price\"] = df[\"price\"] * df[\"quantity\"]\n",
    "top_ten = df.sort_values(by=\"item_price\").tail(10)\n",
    "\n",
    "plt.pie(\n",
    "    top_ten[\"item_price\"],\n",
    "    labels=top_ten[\"name\"],\n",
    "    autopct=lambda p: \"{:.2f}%({:.0f})\".format(\n",
    "        p, (p / 100) * sum(top_ten[\"item_price\"])\n",
    "    ),\n",
    "    pctdistance=0.6,\n",
    ")\n",
    "plt.title(\"Top 10 position in meny which make the most money for restaurant\")\n",
    "plt.show()"
   ],
   "metadata": {
    "collapsed": false,
    "pycharm": {
     "name": "#%%\n"
    }
   }
  },
  {
   "cell_type": "markdown",
   "source": [
    "# Task 3\n",
    "Calculate `Order Hour` based on `Order Datetime`, which will tell about the specific our the order was created (from 0 to 23). Using `Order Hour` create a bar chart, which will tell the total restaurant income based on the hour order was created. So on x-axis - it will be values from 0 to 23 (hours), on y-axis - it will be the total sum of order prices, which were sold on that hour.\n",
    "\n",
    "Example:\n",
    "\n",
    "![bar chart](../demo/bar.png)"
   ],
   "metadata": {
    "collapsed": false,
    "pycharm": {
     "name": "#%% md\n"
    }
   }
  },
  {
   "cell_type": "code",
   "execution_count": 112,
   "outputs": [
    {
     "data": {
      "text/plain": "<AxesSubplot: title={'center': 'Profit by hour'}, xlabel='order_hour'>"
     },
     "execution_count": 112,
     "metadata": {},
     "output_type": "execute_result"
    },
    {
     "data": {
      "text/plain": "<Figure size 640x480 with 1 Axes>",
      "image/png": "[encoded data removed]"
     },
     "metadata": {},
     "output_type": "display_data"
    }
   ],
   "source": [
    "df[\"order_hour\"] = pd.to_datetime(df[\"datetime\"]).dt.hour\n",
    "\n",
    "hour_df = df.groupby(\"order_hour\", as_index=False).sum()\n",
    "\n",
    "hour_df.plot.bar(x=\"order_hour\", y=\"price\", title=\"Profit by hour\")"
   ],
   "metadata": {
    "collapsed": false,
    "pycharm": {
     "name": "#%%\n"
    }
   }
  },
  {
   "cell_type": "markdown",
   "source": [
    "# Task 4\n",
    "Make similar bar chart, but right now with `Order Day Of The Week` (from Monday to Sunday), and also analyze total restaurant income by each day of the week."
   ],
   "metadata": {
    "collapsed": false,
    "pycharm": {
     "name": "#%% md\n"
    }
   }
  },
  {
   "cell_type": "code",
   "execution_count": 109,
   "outputs": [
    {
     "data": {
      "text/plain": "<AxesSubplot: title={'center': 'Profit by day of week'}, xlabel='day_of_week'>"
     },
     "execution_count": 109,
     "metadata": {},
     "output_type": "execute_result"
    },
    {
     "data": {
      "text/plain": "<Figure size 640x480 with 1 Axes>",
      "image/png": "[encoded data removed]"
     },
     "metadata": {},
     "output_type": "display_data"
    }
   ],
   "source": [
    "df[\"day_of_week\"] = pd.to_datetime(df[\"datetime\"]).dt.dayofweek\n",
    "df2 = df.groupby(by=\"day_of_week\", as_index=False).sum()\n",
    "\n",
    "df2.plot.bar(x=\"day_of_week\", y=\"price\", title=\"Profit by day of week\")"
   ],
   "metadata": {
    "collapsed": false,
    "pycharm": {
     "name": "#%%\n"
    }
   }
  },
  {
   "cell_type": "code",
   "execution_count": null,
   "outputs": [],
   "source": [],
   "metadata": {
    "collapsed": false,
    "pycharm": {
     "name": "#%%\n"
    }
   }
  }
 ],
 "metadata": {
  "kernelspec": {
   "display_name": "Python 3",
   "language": "python",
   "name": "python3"
  },
  "language_info": {
   "codemirror_mode": {
    "name": "ipython",
    "version": 2
   },
   "file_extension": ".py",
   "mimetype": "text/x-python",
   "name": "python",
   "nbconvert_exporter": "python",
   "pygments_lexer": "ipython2",
   "version": "2.7.6"
  }
 },
 "nbformat": 4,
 "nbformat_minor": 0
}